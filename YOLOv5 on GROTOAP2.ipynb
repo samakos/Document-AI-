{
 "cells": [
  {
   "cell_type": "markdown",
   "id": "7a7a0973",
   "metadata": {},
   "source": [
    "## Convert COCO format YOLO format \n",
    "### YOLOv5 accepts the bboxes in format (x0,y0,w,h)"
   ]
  },
  {
   "cell_type": "code",
   "execution_count": 1,
   "id": "b4e63a3e",
   "metadata": {},
   "outputs": [],
   "source": [
    "# One should do that for both train, validation, and test json files"
   ]
  },
  {
   "cell_type": "code",
   "execution_count": null,
   "id": "be8da107",
   "metadata": {},
   "outputs": [],
   "source": [
    "import json\n",
    "import os\n",
    "\n",
    "def coco_to_yolo(coco_file, output_dir):\n",
    "    with open(coco_file) as f:\n",
    "        data = json.load(f)\n",
    "\n",
    "    images = data['images']\n",
    "    annotations = data['annotations']\n",
    "    categories = {category['id']: category['name'] for category in data['categories']}\n",
    "\n",
    "    for image in images:\n",
    "        image_id = image['id']\n",
    "        image_name = image['file_name']\n",
    "        image_width = image['width']\n",
    "        image_height = image['height']\n",
    "\n",
    "        image_annotations = [ann for ann in annotations if ann['image_id'] == image_id]\n",
    "\n",
    "        yolo_annotations = []\n",
    "        for ann in image_annotations:\n",
    "            category_id = ann['category_id']\n",
    "            bbox = ann['bbox']\n",
    "            x, y, w, h = bbox\n",
    "            x_center = (x + w / 2) / image_width\n",
    "            y_center = (y + h / 2) / image_height\n",
    "            width = w / image_width\n",
    "            height = h / image_height\n",
    "\n",
    "            yolo_annotations.append(f\"{category_id} {x_center} {y_center} {width} {height}\")\n",
    "\n",
    "        yolo_annotations_str = '\\n'.join(yolo_annotations)\n",
    "\n",
    "        output_path = os.path.join(output_dir, f\"{os.path.splitext(image_name)[0]}.txt\")\n",
    "        with open(output_path, 'w') as f:\n",
    "            f.write(yolo_annotations_str)\n",
    "\n",
    "    print(\"Conversion complete!\")\n",
    "\n",
    "\n",
    "coco_file = \"/home/ec2-user/SageMaker/GROTOAP2-data/test.json\"\n",
    "output_dir = \"/home/ec2-user/SageMaker/GROTOAP2-data/yolo_test\"\n",
    "os.makedirs(output_dir, exist_ok=True)\n",
    "coco_to_yolo(coco_file, output_dir)"
   ]
  },
  {
   "cell_type": "code",
   "execution_count": null,
   "id": "06eb37bb",
   "metadata": {},
   "outputs": [],
   "source": []
  },
  {
   "cell_type": "markdown",
   "id": "84501629",
   "metadata": {},
   "source": [
    "## For YOLOv5 the order needs to start from 0 "
   ]
  },
  {
   "cell_type": "code",
   "execution_count": null,
   "id": "36f4fdc0",
   "metadata": {},
   "outputs": [],
   "source": [
    "import os\n",
    "\n",
    "input_folder = '/home/ec2-user/SageMaker/GROTOAP2_FOR_YOLO/test/labels'  \n",
    "output_folder = '/home/ec2-user/SageMaker/GROTOAP2_FOR_YOLO/test/labelscorrect'\n",
    "\n",
    "\n",
    "if not os.path.exists(output_folder):\n",
    "    os.makedirs(output_folder)\n",
    "\n",
    "txt_files = [f for f in os.listdir(input_folder) if f.endswith(\".txt\")]\n",
    "\n",
    "for txt_file in txt_files:\n",
    "    input_file = os.path.join(input_folder, txt_file)\n",
    "    output_file = os.path.join(output_folder, txt_file)\n",
    "\n",
    "    with open(input_file, \"r\") as file:\n",
    "        lines = file.readlines()\n",
    "\n",
    "    modified_lines = []\n",
    "    for line in lines:\n",
    "        parts = line.strip().split()\n",
    "        if len(parts) > 0:\n",
    "            class_label = int(parts[0]) - 1\n",
    "            modified_line = \" \".join([str(class_label)] + parts[1:])\n",
    "            modified_lines.append(modified_line)\n",
    "\n",
    "    with open(output_file, \"w\") as file:\n",
    "        file.write(\"\\n\".join(modified_lines))\n",
    "\n",
    "print(\"Conversion complete!\")"
   ]
  },
  {
   "cell_type": "code",
   "execution_count": null,
   "id": "8c84303c",
   "metadata": {},
   "outputs": [],
   "source": []
  },
  {
   "cell_type": "code",
   "execution_count": 2,
   "id": "d8b48271",
   "metadata": {},
   "outputs": [],
   "source": [
    "#start experiment"
   ]
  },
  {
   "cell_type": "code",
   "execution_count": null,
   "id": "f373acc3",
   "metadata": {},
   "outputs": [],
   "source": [
    "!git clone https://github.com/ultralytics/yolov5.git"
   ]
  },
  {
   "cell_type": "code",
   "execution_count": null,
   "id": "65f0c0c2",
   "metadata": {},
   "outputs": [],
   "source": [
    "cd yolov5/"
   ]
  },
  {
   "cell_type": "code",
   "execution_count": null,
   "id": "f4b3f968",
   "metadata": {},
   "outputs": [],
   "source": [
    "!pip install -r requirements.txt"
   ]
  },
  {
   "cell_type": "code",
   "execution_count": null,
   "id": "fca71886",
   "metadata": {},
   "outputs": [],
   "source": [
    "!python train.py --epochs 80 --data /home/ec2-user/SageMaker/yolov5/data/groto.yaml --weights yolov5s.pt"
   ]
  },
  {
   "cell_type": "code",
   "execution_count": 1,
   "id": "ddfc1eb6",
   "metadata": {},
   "outputs": [
    {
     "data": {
      "text/plain": [
       "\"\\ngroto.yaml\\ntrain: /home/ec2-user/SageMaker/GROTOAP2_FOR_YOLO/train\\nval:  /home/ec2-user/SageMaker/GROTOAP2_FOR_YOLO/validation\\ntest: /home/ec2-user/SageMaker/validation\\n\\nnc: 22\\n\\nnames: ['BIB_INFO','BODY_CONTENT','REFERENCES','AFFILIATION','PAGE_NUMBER','ABSTRACT','AUTHOR', 'DATES','TITLE','COPYRIGHT','ACKNOWLEDGMENT','UNKNOWN','FIGURE','CORRESPONDENCE','CONFLICT_STATEMENT','TABLE','TYPE','KEYWORDS',\\n'EDITOR','AUTHOR_TITLE','GLOSSARY','EQUATION']\\n#names: ['abstract', 'acknowledgments', 'affiliation', 'author', #'bib_info','body_content','conflict_statement','copyright','correspondence','dates','editor','equation','figure','glossary',\\n#'keywords','page_number','references','table','title','title_author','type','unknown']\\n\""
      ]
     },
     "execution_count": 1,
     "metadata": {},
     "output_type": "execute_result"
    }
   ],
   "source": [
    "'''\n",
    "groto.yaml\n",
    "train: /home/ec2-user/SageMaker/GROTOAP2_FOR_YOLO/train\n",
    "val:  /home/ec2-user/SageMaker/GROTOAP2_FOR_YOLO/validation\n",
    "test: /home/ec2-user/SageMaker/validation\n",
    "\n",
    "nc: 22\n",
    "\n",
    "names: ['BIB_INFO','BODY_CONTENT','REFERENCES','AFFILIATION','PAGE_NUMBER','ABSTRACT','AUTHOR', 'DATES','TITLE','COPYRIGHT','ACKNOWLEDGMENT','UNKNOWN','FIGURE','CORRESPONDENCE','CONFLICT_STATEMENT','TABLE','TYPE','KEYWORDS',\n",
    "'EDITOR','AUTHOR_TITLE','GLOSSARY','EQUATION']\n",
    "#names: ['abstract', 'acknowledgments', 'affiliation', 'author', #'bib_info','body_content','conflict_statement','copyright','correspondence','dates','editor','equation','figure','glossary',\n",
    "#'keywords','page_number','references','table','title','title_author','type','unknown']\n",
    "'''"
   ]
  },
  {
   "cell_type": "code",
   "execution_count": null,
   "id": "a4301976",
   "metadata": {},
   "outputs": [],
   "source": []
  }
 ],
 "metadata": {
  "kernelspec": {
   "display_name": "conda_pytorch_p310",
   "language": "python",
   "name": "conda_pytorch_p310"
  },
  "language_info": {
   "codemirror_mode": {
    "name": "ipython",
    "version": 3
   },
   "file_extension": ".py",
   "mimetype": "text/x-python",
   "name": "python",
   "nbconvert_exporter": "python",
   "pygments_lexer": "ipython3",
   "version": "3.10.10"
  }
 },
 "nbformat": 4,
 "nbformat_minor": 5
}
